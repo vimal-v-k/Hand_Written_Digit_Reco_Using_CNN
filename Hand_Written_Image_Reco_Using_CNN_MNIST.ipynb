{
 "cells": [
  {
   "cell_type": "code",
   "execution_count": 1,
   "id": "acb83f6a",
   "metadata": {},
   "outputs": [],
   "source": [
    "import numpy as np\n",
    "import pandas as pd\n",
    "import tensorflow as tf\n",
    "from tensorflow.keras import datasets\n",
    "from tensorflow.keras.models import Sequential\n",
    "from tensorflow.keras.layers import Conv2D,Dense,MaxPool2D,Flatten,BatchNormalization\n",
    "from tensorflow.keras.callbacks import EarlyStopping,TensorBoard,ReduceLROnPlateau\n",
    "from tensorflow.keras.preprocessing.image import ImageDataGenerator\n",
    "import seaborn as sns\n",
    "import matplotlib.pyplot as plt\n",
    "import datetime"
   ]
  },
  {
   "cell_type": "code",
   "execution_count": 2,
   "id": "45e85fb5",
   "metadata": {},
   "outputs": [],
   "source": [
    "(x_train,y_train),(x_test,y_test) = datasets.mnist.load_data()"
   ]
  },
  {
   "cell_type": "code",
   "execution_count": 3,
   "id": "1f7a5ce6",
   "metadata": {},
   "outputs": [
    {
     "data": {
      "text/plain": [
       "(60000, 28, 28)"
      ]
     },
     "execution_count": 3,
     "metadata": {},
     "output_type": "execute_result"
    }
   ],
   "source": [
    "x_train.shape"
   ]
  },
  {
   "cell_type": "code",
   "execution_count": 4,
   "id": "6f14b949",
   "metadata": {},
   "outputs": [
    {
     "data": {
      "text/plain": [
       "(60000,)"
      ]
     },
     "execution_count": 4,
     "metadata": {},
     "output_type": "execute_result"
    }
   ],
   "source": [
    "y_train.shape"
   ]
  },
  {
   "cell_type": "code",
   "execution_count": 5,
   "id": "df0b3465",
   "metadata": {},
   "outputs": [
    {
     "data": {
      "text/plain": [
       "(10000, 28, 28)"
      ]
     },
     "execution_count": 5,
     "metadata": {},
     "output_type": "execute_result"
    }
   ],
   "source": [
    "x_test.shape"
   ]
  },
  {
   "cell_type": "code",
   "execution_count": 6,
   "id": "fae90f93",
   "metadata": {},
   "outputs": [
    {
     "data": {
      "text/plain": [
       "(10000,)"
      ]
     },
     "execution_count": 6,
     "metadata": {},
     "output_type": "execute_result"
    }
   ],
   "source": [
    "y_test.shape"
   ]
  },
  {
   "cell_type": "code",
   "execution_count": 7,
   "id": "8788d348",
   "metadata": {},
   "outputs": [],
   "source": [
    "# Normalize pixel values to [0, 1] and reshape for CNN input\n",
    "def preprocess(images):\n",
    "    images = images / 255.0\n",
    "    return images.reshape(-1, 28, 28, 1)"
   ]
  },
  {
   "cell_type": "code",
   "execution_count": 8,
   "id": "1f8b4ff9",
   "metadata": {},
   "outputs": [],
   "source": [
    "x_train = preprocess(x_train)\n",
    "x_test = preprocess(x_test)"
   ]
  },
  {
   "cell_type": "code",
   "execution_count": 9,
   "id": "8e39848d",
   "metadata": {},
   "outputs": [
    {
     "data": {
      "text/plain": [
       "(60000, 28, 28, 1)"
      ]
     },
     "execution_count": 9,
     "metadata": {},
     "output_type": "execute_result"
    }
   ],
   "source": [
    "x_train.shape"
   ]
  },
  {
   "cell_type": "code",
   "execution_count": 10,
   "id": "24768d60",
   "metadata": {},
   "outputs": [
    {
     "data": {
      "text/plain": [
       "(10000, 28, 28, 1)"
      ]
     },
     "execution_count": 10,
     "metadata": {},
     "output_type": "execute_result"
    }
   ],
   "source": [
    "x_test.shape"
   ]
  },
  {
   "cell_type": "code",
   "execution_count": 11,
   "id": "2769cd98",
   "metadata": {},
   "outputs": [],
   "source": [
    "# Define an ImageDataGenerator with augmentation parameters\n",
    "datagen = ImageDataGenerator(\n",
    "    rotation_range=10,       # Randomly rotate images by up to 10 degrees\n",
    "    width_shift_range=0.1,   # Randomly shift images horizontally by 10% of the width\n",
    "    height_shift_range=0.1,  # Randomly shift images vertically by 10% of the height\n",
    "    zoom_range=0.1,          # Randomly zoom in/out by up to 10%\n",
    "    horizontal_flip=False    # Do not flip images horizontally (not meaningful for digits)\n",
    ")"
   ]
  },
  {
   "cell_type": "code",
   "execution_count": 12,
   "id": "d2ecf519",
   "metadata": {},
   "outputs": [],
   "source": [
    "# Create a generator for augmented data\n",
    "train_generator = datagen.flow(x_train, y_train, batch_size=100)"
   ]
  },
  {
   "cell_type": "code",
   "execution_count": 13,
   "id": "e26235c7",
   "metadata": {},
   "outputs": [],
   "source": [
    "model = Sequential(\n",
    "    [\n",
    "        Conv2D(32,(3,3),activation='relu',padding='same',input_shape=(28,28,1)),\n",
    "        MaxPool2D((2,2)),\n",
    "        BatchNormalization(),\n",
    "        Conv2D(32,(3,3),activation='relu',padding='same'),\n",
    "        MaxPool2D((2,2)),\n",
    "        Conv2D(64,(3,3),activation='relu',padding='same'),\n",
    "        MaxPool2D((2,2)),\n",
    "        BatchNormalization(),\n",
    "        Conv2D(64,(3,3),activation='relu',padding='same'),\n",
    "        MaxPool2D((2,2)),\n",
    "        BatchNormalization(),\n",
    "        Flatten(),\n",
    "        Dense(256, activation='relu'),\n",
    "        BatchNormalization(),\n",
    "        Dense(10, activation='softmax')\n",
    "    ]\n",
    ")"
   ]
  },
  {
   "cell_type": "code",
   "execution_count": 14,
   "id": "39015fd0",
   "metadata": {},
   "outputs": [
    {
     "name": "stdout",
     "output_type": "stream",
     "text": [
      "Model: \"sequential\"\n",
      "_________________________________________________________________\n",
      " Layer (type)                Output Shape              Param #   \n",
      "=================================================================\n",
      " conv2d (Conv2D)             (None, 28, 28, 32)        320       \n",
      "                                                                 \n",
      " max_pooling2d (MaxPooling2  (None, 14, 14, 32)        0         \n",
      " D)                                                              \n",
      "                                                                 \n",
      " batch_normalization (Batch  (None, 14, 14, 32)        128       \n",
      " Normalization)                                                  \n",
      "                                                                 \n",
      " conv2d_1 (Conv2D)           (None, 14, 14, 32)        9248      \n",
      "                                                                 \n",
      " max_pooling2d_1 (MaxPoolin  (None, 7, 7, 32)          0         \n",
      " g2D)                                                            \n",
      "                                                                 \n",
      " conv2d_2 (Conv2D)           (None, 7, 7, 64)          18496     \n",
      "                                                                 \n",
      " max_pooling2d_2 (MaxPoolin  (None, 3, 3, 64)          0         \n",
      " g2D)                                                            \n",
      "                                                                 \n",
      " batch_normalization_1 (Bat  (None, 3, 3, 64)          256       \n",
      " chNormalization)                                                \n",
      "                                                                 \n",
      " conv2d_3 (Conv2D)           (None, 3, 3, 64)          36928     \n",
      "                                                                 \n",
      " max_pooling2d_3 (MaxPoolin  (None, 1, 1, 64)          0         \n",
      " g2D)                                                            \n",
      "                                                                 \n",
      " batch_normalization_2 (Bat  (None, 1, 1, 64)          256       \n",
      " chNormalization)                                                \n",
      "                                                                 \n",
      " flatten (Flatten)           (None, 64)                0         \n",
      "                                                                 \n",
      " dense (Dense)               (None, 256)               16640     \n",
      "                                                                 \n",
      " batch_normalization_3 (Bat  (None, 256)               1024      \n",
      " chNormalization)                                                \n",
      "                                                                 \n",
      " dense_1 (Dense)             (None, 10)                2570      \n",
      "                                                                 \n",
      "=================================================================\n",
      "Total params: 85866 (335.41 KB)\n",
      "Trainable params: 85034 (332.16 KB)\n",
      "Non-trainable params: 832 (3.25 KB)\n",
      "_________________________________________________________________\n"
     ]
    }
   ],
   "source": [
    "model.summary()"
   ]
  },
  {
   "cell_type": "code",
   "execution_count": 15,
   "id": "708d0d6b",
   "metadata": {},
   "outputs": [],
   "source": [
    "model.compile(optimizer='adam',\n",
    "              loss='sparse_categorical_crossentropy',\n",
    "              metrics = ['accuracy'])"
   ]
  },
  {
   "cell_type": "code",
   "execution_count": 16,
   "id": "11b64dad",
   "metadata": {},
   "outputs": [],
   "source": [
    "log_dir = 'logs/fit/' + datetime.datetime.now().strftime(\"%Y%m%d-%H%M%S\")"
   ]
  },
  {
   "cell_type": "code",
   "execution_count": 17,
   "id": "209439f7",
   "metadata": {},
   "outputs": [],
   "source": [
    "tensorboard_callback = TensorBoard(log_dir=log_dir,histogram_freq=1)"
   ]
  },
  {
   "cell_type": "code",
   "execution_count": 18,
   "id": "d5a661d7",
   "metadata": {},
   "outputs": [],
   "source": [
    "early_stopping_callback = EarlyStopping(monitor='val_loss',patience = 5, restore_best_weights=True)"
   ]
  },
  {
   "cell_type": "code",
   "execution_count": 19,
   "id": "f459133c",
   "metadata": {},
   "outputs": [],
   "source": [
    "reduce_lr = ReduceLROnPlateau(factor=0.5, patience=3)"
   ]
  },
  {
   "cell_type": "code",
   "execution_count": 20,
   "id": "382ac58a",
   "metadata": {},
   "outputs": [
    {
     "name": "stdout",
     "output_type": "stream",
     "text": [
      "Epoch 1/100\n",
      "600/600 [==============================] - 40s 64ms/step - loss: 0.1822 - accuracy: 0.9432 - val_loss: 0.0715 - val_accuracy: 0.9772 - lr: 0.0010\n",
      "Epoch 2/100\n",
      "600/600 [==============================] - 35s 59ms/step - loss: 0.0654 - accuracy: 0.9797 - val_loss: 0.0553 - val_accuracy: 0.9825 - lr: 0.0010\n",
      "Epoch 3/100\n",
      "600/600 [==============================] - 36s 60ms/step - loss: 0.0540 - accuracy: 0.9829 - val_loss: 0.0931 - val_accuracy: 0.9693 - lr: 0.0010\n",
      "Epoch 4/100\n",
      "600/600 [==============================] - 35s 58ms/step - loss: 0.0462 - accuracy: 0.9856 - val_loss: 0.0619 - val_accuracy: 0.9807 - lr: 0.0010\n",
      "Epoch 5/100\n",
      "600/600 [==============================] - 36s 60ms/step - loss: 0.0407 - accuracy: 0.9876 - val_loss: 0.0381 - val_accuracy: 0.9885 - lr: 0.0010\n",
      "Epoch 6/100\n",
      "600/600 [==============================] - 37s 61ms/step - loss: 0.0361 - accuracy: 0.9889 - val_loss: 0.0255 - val_accuracy: 0.9921 - lr: 0.0010\n",
      "Epoch 7/100\n",
      "600/600 [==============================] - 42s 70ms/step - loss: 0.0337 - accuracy: 0.9894 - val_loss: 0.0281 - val_accuracy: 0.9923 - lr: 0.0010\n",
      "Epoch 8/100\n",
      "600/600 [==============================] - 34s 56ms/step - loss: 0.0344 - accuracy: 0.9888 - val_loss: 0.0373 - val_accuracy: 0.9898 - lr: 0.0010\n",
      "Epoch 9/100\n",
      "600/600 [==============================] - 35s 59ms/step - loss: 0.0314 - accuracy: 0.9900 - val_loss: 0.0404 - val_accuracy: 0.9870 - lr: 0.0010\n",
      "Epoch 10/100\n",
      "600/600 [==============================] - 34s 57ms/step - loss: 0.0241 - accuracy: 0.9922 - val_loss: 0.0263 - val_accuracy: 0.9909 - lr: 5.0000e-04\n",
      "Epoch 11/100\n",
      "600/600 [==============================] - 34s 57ms/step - loss: 0.0203 - accuracy: 0.9934 - val_loss: 0.0221 - val_accuracy: 0.9934 - lr: 5.0000e-04\n",
      "Epoch 12/100\n",
      "600/600 [==============================] - 35s 58ms/step - loss: 0.0209 - accuracy: 0.9932 - val_loss: 0.0194 - val_accuracy: 0.9932 - lr: 5.0000e-04\n",
      "Epoch 13/100\n",
      "600/600 [==============================] - 35s 58ms/step - loss: 0.0197 - accuracy: 0.9935 - val_loss: 0.0223 - val_accuracy: 0.9925 - lr: 5.0000e-04\n",
      "Epoch 14/100\n",
      "600/600 [==============================] - 35s 59ms/step - loss: 0.0204 - accuracy: 0.9936 - val_loss: 0.0217 - val_accuracy: 0.9933 - lr: 5.0000e-04\n",
      "Epoch 15/100\n",
      "600/600 [==============================] - 36s 59ms/step - loss: 0.0187 - accuracy: 0.9939 - val_loss: 0.0251 - val_accuracy: 0.9917 - lr: 5.0000e-04\n",
      "Epoch 16/100\n",
      "600/600 [==============================] - 36s 59ms/step - loss: 0.0169 - accuracy: 0.9946 - val_loss: 0.0177 - val_accuracy: 0.9944 - lr: 2.5000e-04\n",
      "Epoch 17/100\n",
      "600/600 [==============================] - 35s 59ms/step - loss: 0.0150 - accuracy: 0.9950 - val_loss: 0.0176 - val_accuracy: 0.9942 - lr: 2.5000e-04\n",
      "Epoch 18/100\n",
      "600/600 [==============================] - 35s 59ms/step - loss: 0.0143 - accuracy: 0.9954 - val_loss: 0.0167 - val_accuracy: 0.9939 - lr: 2.5000e-04\n",
      "Epoch 19/100\n",
      "600/600 [==============================] - 35s 59ms/step - loss: 0.0126 - accuracy: 0.9962 - val_loss: 0.0201 - val_accuracy: 0.9932 - lr: 2.5000e-04\n",
      "Epoch 20/100\n",
      "600/600 [==============================] - 35s 58ms/step - loss: 0.0140 - accuracy: 0.9955 - val_loss: 0.0194 - val_accuracy: 0.9926 - lr: 2.5000e-04\n",
      "Epoch 21/100\n",
      "600/600 [==============================] - 35s 58ms/step - loss: 0.0133 - accuracy: 0.9958 - val_loss: 0.0161 - val_accuracy: 0.9949 - lr: 2.5000e-04\n",
      "Epoch 22/100\n",
      "600/600 [==============================] - 35s 59ms/step - loss: 0.0118 - accuracy: 0.9961 - val_loss: 0.0165 - val_accuracy: 0.9942 - lr: 2.5000e-04\n",
      "Epoch 23/100\n",
      "600/600 [==============================] - 35s 58ms/step - loss: 0.0118 - accuracy: 0.9964 - val_loss: 0.0177 - val_accuracy: 0.9944 - lr: 2.5000e-04\n",
      "Epoch 24/100\n",
      "600/600 [==============================] - 34s 57ms/step - loss: 0.0123 - accuracy: 0.9958 - val_loss: 0.0205 - val_accuracy: 0.9935 - lr: 2.5000e-04\n",
      "Epoch 25/100\n",
      "600/600 [==============================] - 35s 58ms/step - loss: 0.0105 - accuracy: 0.9966 - val_loss: 0.0180 - val_accuracy: 0.9942 - lr: 1.2500e-04\n",
      "Epoch 26/100\n",
      "600/600 [==============================] - 35s 58ms/step - loss: 0.0104 - accuracy: 0.9965 - val_loss: 0.0185 - val_accuracy: 0.9940 - lr: 1.2500e-04\n"
     ]
    }
   ],
   "source": [
    "# Training the model\n",
    "history = model.fit(\n",
    "    train_generator, epochs=100, \n",
    "    validation_data=(x_test, y_test),\n",
    "    callbacks = [tensorboard_callback,early_stopping_callback,reduce_lr]\n",
    ")"
   ]
  },
  {
   "cell_type": "code",
   "execution_count": 22,
   "id": "b98e7304",
   "metadata": {},
   "outputs": [],
   "source": [
    "# Loading Tensorboard Extension\n",
    "%load_ext tensorboard"
   ]
  },
  {
   "cell_type": "code",
   "execution_count": 23,
   "id": "2aea3361",
   "metadata": {},
   "outputs": [],
   "source": [
    "%reload_ext tensorboard"
   ]
  },
  {
   "cell_type": "code",
   "execution_count": 27,
   "id": "3fb93aee",
   "metadata": {},
   "outputs": [
    {
     "data": {
      "text/plain": [
       "Reusing TensorBoard on port 8081 (pid 12616), started 0:00:03 ago. (Use '!kill 12616' to kill it.)"
      ]
     },
     "metadata": {},
     "output_type": "display_data"
    },
    {
     "data": {
      "text/html": [
       "\n",
       "      <iframe id=\"tensorboard-frame-1dfb36371bf16979\" width=\"100%\" height=\"800\" frameborder=\"0\">\n",
       "      </iframe>\n",
       "      <script>\n",
       "        (function() {\n",
       "          const frame = document.getElementById(\"tensorboard-frame-1dfb36371bf16979\");\n",
       "          const url = new URL(\"http://localhost\");\n",
       "          const port = 8081;\n",
       "          if (port) {\n",
       "            url.port = port;\n",
       "          }\n",
       "          frame.src = url;\n",
       "        })();\n",
       "      </script>\n",
       "    "
      ],
      "text/plain": [
       "<IPython.core.display.HTML object>"
      ]
     },
     "metadata": {},
     "output_type": "display_data"
    }
   ],
   "source": [
    "%tensorboard --logdir logs/fit/ --port=8081"
   ]
  },
  {
   "cell_type": "code",
   "execution_count": 25,
   "id": "3de94fe1",
   "metadata": {},
   "outputs": [
    {
     "name": "stderr",
     "output_type": "stream",
     "text": [
      "c:\\Users\\azefr\\OneDrive\\Desktop\\Projects\\CNN\\env\\lib\\site-packages\\keras\\src\\engine\\training.py:3000: UserWarning: You are saving your model as an HDF5 file via `model.save()`. This file format is considered legacy. We recommend using instead the native Keras format, e.g. `model.save('my_model.keras')`.\n",
      "  saving_api.save_model(\n"
     ]
    }
   ],
   "source": [
    "model.save('model.h5')"
   ]
  }
 ],
 "metadata": {
  "kernelspec": {
   "display_name": "env",
   "language": "python",
   "name": "python3"
  },
  "language_info": {
   "codemirror_mode": {
    "name": "ipython",
    "version": 3
   },
   "file_extension": ".py",
   "mimetype": "text/x-python",
   "name": "python",
   "nbconvert_exporter": "python",
   "pygments_lexer": "ipython3",
   "version": "3.8.10"
  }
 },
 "nbformat": 4,
 "nbformat_minor": 5
}
